{
 "cells": [
  {
   "cell_type": "code",
   "execution_count": 9,
   "id": "139678e6",
   "metadata": {},
   "outputs": [],
   "source": [
    "import numpy as np"
   ]
  },
  {
   "cell_type": "code",
   "execution_count": null,
   "id": "c4510498",
   "metadata": {},
   "outputs": [],
   "source": [
    "a = [1,2,3,]\n",
    "b = [[4,5,6,],[7,8,9],[10,11,12]]"
   ]
  },
  {
   "cell_type": "code",
   "execution_count": 10,
   "id": "fb72d993",
   "metadata": {},
   "outputs": [
    {
     "name": "stdout",
     "output_type": "stream",
     "text": [
      "[1, 2, 3]\n",
      "[[4, 5, 6], [7, 8, 9], [10, 11, 12]]\n"
     ]
    }
   ],
   "source": [
    "print(a)\n",
    "print(b)"
   ]
  },
  {
   "cell_type": "markdown",
   "id": "c9592db0",
   "metadata": {},
   "source": [
    "# Numpy operations"
   ]
  },
  {
   "cell_type": "markdown",
   "id": "37803a61",
   "metadata": {},
   "source": [
    "***Introduction***"
   ]
  },
  {
   "cell_type": "code",
   "execution_count": null,
   "id": "ac446289",
   "metadata": {},
   "outputs": [],
   "source": []
  },
  {
   "cell_type": "markdown",
   "id": "1b56a96d",
   "metadata": {},
   "source": [
    "***Getting started***"
   ]
  },
  {
   "cell_type": "code",
   "execution_count": null,
   "id": "38620819",
   "metadata": {},
   "outputs": [],
   "source": []
  },
  {
   "cell_type": "markdown",
   "id": "cb11ca51",
   "metadata": {},
   "source": [
    "***Creating Arrays***"
   ]
  },
  {
   "cell_type": "code",
   "execution_count": null,
   "id": "ad40587a",
   "metadata": {},
   "outputs": [],
   "source": []
  },
  {
   "cell_type": "markdown",
   "id": "b067a352",
   "metadata": {},
   "source": [
    "***Array indexing***"
   ]
  },
  {
   "cell_type": "code",
   "execution_count": null,
   "id": "175f4603",
   "metadata": {},
   "outputs": [],
   "source": []
  },
  {
   "cell_type": "markdown",
   "id": "fd5edb8a",
   "metadata": {},
   "source": [
    "***Array Slicing***"
   ]
  },
  {
   "cell_type": "code",
   "execution_count": null,
   "id": "5a1d6ebf",
   "metadata": {},
   "outputs": [],
   "source": []
  },
  {
   "cell_type": "markdown",
   "id": "9f1a120e",
   "metadata": {},
   "source": [
    "***Data types***"
   ]
  },
  {
   "cell_type": "code",
   "execution_count": null,
   "id": "a5001652",
   "metadata": {},
   "outputs": [],
   "source": []
  },
  {
   "cell_type": "markdown",
   "id": "d7e5a2a3",
   "metadata": {},
   "source": [
    "***Copy vs Veiw***"
   ]
  },
  {
   "cell_type": "code",
   "execution_count": null,
   "id": "3a77ba87",
   "metadata": {},
   "outputs": [],
   "source": []
  },
  {
   "cell_type": "markdown",
   "id": "587e9023",
   "metadata": {},
   "source": [
    "***Array Shape***"
   ]
  },
  {
   "cell_type": "code",
   "execution_count": null,
   "id": "d78dff19",
   "metadata": {},
   "outputs": [],
   "source": []
  },
  {
   "cell_type": "markdown",
   "id": "721cfd2f",
   "metadata": {},
   "source": [
    "***Array Reshape***"
   ]
  },
  {
   "cell_type": "code",
   "execution_count": null,
   "id": "0bfc13de",
   "metadata": {},
   "outputs": [],
   "source": []
  },
  {
   "cell_type": "markdown",
   "id": "f15700cf",
   "metadata": {},
   "source": [
    "***Array Iterating***"
   ]
  },
  {
   "cell_type": "code",
   "execution_count": null,
   "id": "4dbff5b9",
   "metadata": {},
   "outputs": [],
   "source": []
  },
  {
   "cell_type": "markdown",
   "id": "60f9d8ae",
   "metadata": {},
   "source": [
    "***Array Join***"
   ]
  },
  {
   "cell_type": "code",
   "execution_count": null,
   "id": "edc6dac8",
   "metadata": {},
   "outputs": [],
   "source": []
  },
  {
   "cell_type": "markdown",
   "metadata": {},
   "source": [
    "***Array Split***"
   ]
  },
  {
   "cell_type": "code",
   "execution_count": null,
   "id": "bdb6c482",
   "metadata": {},
   "outputs": [],
   "source": []
  },
  {
   "cell_type": "markdown",
   "id": "6ebd1439",
   "metadata": {},
   "source": [
    "***Array Search***"
   ]
  },
  {
   "cell_type": "code",
   "execution_count": null,
   "id": "3cf1cd74",
   "metadata": {},
   "outputs": [],
   "source": []
  },
  {
   "cell_type": "markdown",
   "id": "ab4a1622",
   "metadata": {},
   "source": [
    "***Array sort***"
   ]
  },
  {
   "cell_type": "code",
   "execution_count": null,
   "id": "4bf4d9b2",
   "metadata": {},
   "outputs": [],
   "source": []
  },
  {
   "cell_type": "markdown",
   "id": "7a599aab",
   "metadata": {},
   "source": [
    "***Array filter***"
   ]
  },
  {
   "cell_type": "code",
   "execution_count": null,
   "id": "baf98331",
   "metadata": {},
   "outputs": [],
   "source": []
  }
 ],
 "metadata": {
  "kernelspec": {
   "display_name": "Python 3.9.2 64-bit",
   "language": "python",
   "name": "python3"
  },
  "language_info": {
   "codemirror_mode": {
    "name": "ipython",
    "version": 3
   },
   "file_extension": ".py",
   "mimetype": "text/x-python",
   "name": "python",
   "nbconvert_exporter": "python",
   "pygments_lexer": "ipython3",
   "version": "3.9.2"
  },
  "vscode": {
   "interpreter": {
    "hash": "31f2aee4e71d21fbe5cf8b01ff0e069b9275f58929596ceb00d14d90e3e16cd6"
   }
  }
 },
 "nbformat": 4,
 "nbformat_minor": 5
}
